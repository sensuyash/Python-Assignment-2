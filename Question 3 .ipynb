{
 "cells": [
  {
   "cell_type": "code",
   "execution_count": 28,
   "metadata": {},
   "outputs": [
    {
     "name": "stdout",
     "output_type": "stream",
     "text": [
      "tutorials\n"
     ]
    }
   ],
   "source": [
    "#Question 3-Implement a function longestWord() that takes a list of words and returns the longest one.\n",
    "#solution:\n",
    "def longestword(word_list):\n",
    "    l=[]\n",
    "    for i in word_list:\n",
    "        l.append((len(i),i))\n",
    "    l.sort()\n",
    "    return l[-1][1]\n",
    "print(longestword([\"Python\",\"Pandas\",\"tutorials\"]))     "
   ]
  }
 ],
 "metadata": {
  "kernelspec": {
   "display_name": "Python 3",
   "language": "python",
   "name": "python3"
  },
  "language_info": {
   "codemirror_mode": {
    "name": "ipython",
    "version": 3
   },
   "file_extension": ".py",
   "mimetype": "text/x-python",
   "name": "python",
   "nbconvert_exporter": "python",
   "pygments_lexer": "ipython3",
   "version": "3.7.6"
  }
 },
 "nbformat": 4,
 "nbformat_minor": 4
}
