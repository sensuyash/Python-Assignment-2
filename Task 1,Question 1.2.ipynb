{
 "cells": [
  {
   "cell_type": "code",
   "execution_count": 2,
   "metadata": {},
   "outputs": [
    {
     "name": "stdout",
     "output_type": "stream",
     "text": [
      "Odd number\n",
      "Even number\n",
      "Odd number\n",
      "[]\n"
     ]
    }
   ],
   "source": [
    "#Task 1 Question 1.2- Write a Python program to implement your own myfilter() function which works exactly like python built in function reduce()\n",
    "#Solution:\n",
    "def num_check(a):\n",
    "    if(a%2==0):\n",
    "        print(\"Even number\")\n",
    "    else:\n",
    "        print(\"Odd number\")\n",
    "\n",
    "def my_filter(func,seq):\n",
    "    result=[]\n",
    "    for i in seq:\n",
    "        if func(i):\n",
    "            result.append(i)\n",
    "    return result \n",
    "n=my_filter(num_check,[1,2,3])\n",
    "print(n)\n",
    "        "
   ]
  }
 ],
 "metadata": {
  "kernelspec": {
   "display_name": "Python 3",
   "language": "python",
   "name": "python3"
  },
  "language_info": {
   "codemirror_mode": {
    "name": "ipython",
    "version": 3
   },
   "file_extension": ".py",
   "mimetype": "text/x-python",
   "name": "python",
   "nbconvert_exporter": "python",
   "pygments_lexer": "ipython3",
   "version": "3.7.6"
  }
 },
 "nbformat": 4,
 "nbformat_minor": 4
}
