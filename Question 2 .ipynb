{
 "cells": [
  {
   "cell_type": "code",
   "execution_count": 7,
   "metadata": {},
   "outputs": [
    {
     "name": "stdout",
     "output_type": "stream",
     "text": [
      "['A', 'C', 'A', 'D', 'G', 'I', 'L', 'D']\n",
      "['x', 'xx', 'xxx', 'xxxx', 'y', 'yy', 'yyy', 'yyyy', 'z', 'zz', 'zzz', 'zzzz']\n",
      "[[2], [3], [4], [3], [4], [5], [4], [5], [6]]\n",
      "[[2, 3, 4, 5], [3, 4, 5, 6], [4, 5, 6, 7], [5, 6, 7, 8]]\n",
      "[(1, 1), (2, 1), (3, 1), (1, 2), (2, 2), (3, 2), (1, 3), (2, 3), (3, 3)]\n"
     ]
    }
   ],
   "source": [
    "#Question 2-Implement List comprehensions to produce the following lists.\n",
    "#     Write List comprehensions to produce the following Lists\n",
    "#     ['A', 'C', 'A', 'D', 'G', 'I', ’L’, ‘ D’]\n",
    "#     ['x', 'xx', 'xxx', 'xxxx', 'y', 'yy', 'yyy', 'yyyy', 'z', 'zz', 'zzz', 'zzzz']\n",
    "#     ['x', 'y', 'z', 'xx', 'yy', 'zz', 'xx', 'yy', 'zz', 'xxxx', 'yyyy', 'zzzz']\n",
    "#     [[2], [3], [4], [3], [4], [5], [4], [5], [6]]\n",
    "#     [[2, 3, 4, 5], [3, 4, 5, 6], [4, 5, 6, 7], [5, 6, 7, 8]]\n",
    "#     [(1, 1), (2, 1), (3, 1), (1, 2), (2, 2), (3, 2), (1, 3), (2, 3), (3, 3)]\n",
    "\n",
    "# Solution:\n",
    "\n",
    "s1=\"ACADGILD\"\n",
    "a=[i for i in s1]\n",
    "print(a)\n",
    "\n",
    "l1=[\"x\",\"y\",\"z\"]\n",
    "b=[i*j for i in l1 for j in range(1,5)]\n",
    "print(b)\n",
    "\n",
    "l2=[2,3,4]\n",
    "c=[[i+j] for i in l2 for j in range(0,3)]\n",
    "print(c)\n",
    "\n",
    "l3=[2,3,4,5]\n",
    "d=[[i+j for i in l3] for j in range(0,4)]\n",
    "print(d)\n",
    "\n",
    "l4=[1,2,3]\n",
    "e=[(y,x) for x in l4 for y in l4]\n",
    "print(e)"
   ]
  },
  {
   "cell_type": "code",
   "execution_count": null,
   "metadata": {},
   "outputs": [],
   "source": []
  }
 ],
 "metadata": {
  "kernelspec": {
   "display_name": "Python 3",
   "language": "python",
   "name": "python3"
  },
  "language_info": {
   "codemirror_mode": {
    "name": "ipython",
    "version": 3
   },
   "file_extension": ".py",
   "mimetype": "text/x-python",
   "name": "python",
   "nbconvert_exporter": "python",
   "pygments_lexer": "ipython3",
   "version": "3.7.6"
  }
 },
 "nbformat": 4,
 "nbformat_minor": 4
}
