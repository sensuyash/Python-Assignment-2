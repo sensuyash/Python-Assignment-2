{
 "cells": [
  {
   "cell_type": "code",
   "execution_count": 38,
   "metadata": {},
   "outputs": [
    {
     "name": "stdout",
     "output_type": "stream",
     "text": [
      "Enter first side:5\n",
      "Enter second side:6\n",
      "Enter third side:7\n",
      "Area of Triangle is: 14.696938456699069\n"
     ]
    }
   ],
   "source": [
    "#Task 2,Question 1.1-Write a Python Program(with class concepts) to find the area of the triangle using the below\n",
    "#formula.\n",
    "#area = (s*(s-a)*(s-b)*(s-c)) ** 0.5\n",
    "#Function to take the length of the sides of triangle from user should be defined in the parent\n",
    "#class and function to calculate the area should be defined in subclass\n",
    "#Solution:\n",
    "class Triangle:\n",
    "    def __init__(self,a,b,c):\n",
    "        self.a=a\n",
    "        self.b=b\n",
    "        self.c=c\n",
    "a=float(input(\"Enter first side:\"))\n",
    "b=float(input(\"Enter second side:\"))\n",
    "c=float(input(\"Enter third side:\"))\n",
    "\n",
    "class Area(Triangle):\n",
    "    def area_of_triangle(self):\n",
    "        s=(a+b+c)/2\n",
    "        return (s*(s-a)*(s-b)*(s-c)) ** 0.5               \n",
    "t=Area(a,b,c)\n",
    "print(\"Area of Triangle is:\",t.area_of_triangle())"
   ]
  }
 ],
 "metadata": {
  "kernelspec": {
   "display_name": "Python 3",
   "language": "python",
   "name": "python3"
  },
  "language_info": {
   "codemirror_mode": {
    "name": "ipython",
    "version": 3
   },
   "file_extension": ".py",
   "mimetype": "text/x-python",
   "name": "python",
   "nbconvert_exporter": "python",
   "pygments_lexer": "ipython3",
   "version": "3.7.6"
  }
 },
 "nbformat": 4,
 "nbformat_minor": 4
}
